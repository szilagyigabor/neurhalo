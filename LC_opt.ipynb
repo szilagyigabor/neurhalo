{
 "cells": [
  {
   "cell_type": "code",
   "execution_count": 11,
   "id": "f0e737ab-ebcb-422d-93e5-bd941016a665",
   "metadata": {},
   "outputs": [],
   "source": [
    "import math\n",
    "inf = math.inf"
   ]
  },
  {
   "cell_type": "code",
   "execution_count": 12,
   "id": "9709007f-aa03-477a-aed6-51f1a10ce74f",
   "metadata": {},
   "outputs": [
    {
     "name": "stdout",
     "output_type": "stream",
     "text": [
      "nan\n"
     ]
    }
   ],
   "source": [
    "print((inf*inf)/inf+inf)"
   ]
  },
  {
   "cell_type": "code",
   "execution_count": null,
   "id": "6fd88cf8-1082-4250-a461-6e1046d91b22",
   "metadata": {},
   "outputs": [],
   "source": []
  }
 ],
 "metadata": {
  "kernelspec": {
   "display_name": "Python 3 (ipykernel)",
   "language": "python",
   "name": "python3"
  },
  "language_info": {
   "codemirror_mode": {
    "name": "ipython",
    "version": 3
   },
   "file_extension": ".py",
   "mimetype": "text/x-python",
   "name": "python",
   "nbconvert_exporter": "python",
   "pygments_lexer": "ipython3",
   "version": "3.10.6"
  }
 },
 "nbformat": 4,
 "nbformat_minor": 5
}
