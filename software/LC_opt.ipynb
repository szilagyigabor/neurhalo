{
 "cells": [
  {
   "cell_type": "code",
   "execution_count": 2,
   "id": "f0e737ab-ebcb-422d-93e5-bd941016a665",
   "metadata": {},
   "outputs": [],
   "source": [
    "from bayes_opt import BayesianOptimization\n",
    "from LC_opt_defs import Spec"
   ]
  },
  {
   "cell_type": "code",
   "execution_count": 9,
   "id": "c6dd101e-68de-4e49-bb04-4113b7022c7c",
   "metadata": {},
   "outputs": [],
   "source": [
    "#starts = [0.1, 100, 10000]\n",
    "starts = [0.1]\n",
    "#ends = [10, 1000, 1000000]\n",
    "ends = [10]\n",
    "#limits = [0.01, 0.7, 0.3]\n",
    "limits = [0.01]\n",
    "#directions = [\"stop\", \"pass\", \"stop\"]\n",
    "directions = [\"stop\"]\n",
    "spec = Spec(starts, ends, limits, directions, margin=0.47, n=1000)"
   ]
  },
  {
   "cell_type": "code",
   "execution_count": 11,
   "id": "bf795b1e-13ca-4669-abf7-fe395421f091",
   "metadata": {},
   "outputs": [
    {
     "data": {
      "image/png": "[encoded data removed]",
      "text/plain": [
       "<Figure size 640x480 with 1 Axes>"
      ]
     },
     "metadata": {},
     "output_type": "display_data"
    },
    {
     "data": {
      "text/plain": [
       "-0.4696119634462982"
      ]
     },
     "execution_count": 11,
     "metadata": {},
     "output_type": "execute_result"
    }
   ],
   "source": [
    "spec.cost(plot=True, par11=3e-3, ser11=7e-2)"
   ]
  },
  {
   "cell_type": "code",
   "execution_count": 6,
   "id": "1e17c480-1d03-4488-a960-111f9810e663",
   "metadata": {},
   "outputs": [
    {
     "name": "stdout",
     "output_type": "stream",
     "text": [
      "|   iter    |  target   |   par11   |   par31   |   ser11   |\n",
      "-------------------------------------------------------------\n",
      "| \u001b[0m1        \u001b[0m | \u001b[0m-4.725   \u001b[0m | \u001b[0m0.0004176\u001b[0m | \u001b[0m-2.797e-0\u001b[0m | \u001b[0m0.0001011\u001b[0m |\n",
      "| \u001b[95m2        \u001b[0m | \u001b[95m-3.793   \u001b[0m | \u001b[95m0.000303 \u001b[0m | \u001b[95m-8.532e-0\u001b[0m | \u001b[95m0.001014 \u001b[0m |\n",
      "| \u001b[95m3        \u001b[0m | \u001b[95m-2.63    \u001b[0m | \u001b[95m0.0001871\u001b[0m | \u001b[95m-6.544e-0\u001b[0m | \u001b[95m0.004028 \u001b[0m |\n",
      "| \u001b[95m4        \u001b[0m | \u001b[95m-2.07    \u001b[0m | \u001b[95m0.0005393\u001b[0m | \u001b[95m-5.808e-0\u001b[0m | \u001b[95m0.006884 \u001b[0m |\n",
      "| \u001b[95m5        \u001b[0m | \u001b[95m-1.941   \u001b[0m | \u001b[95m1e-06    \u001b[0m | \u001b[95m0.0      \u001b[0m | \u001b[95m0.008527 \u001b[0m |\n",
      "| \u001b[95m6        \u001b[0m | \u001b[95m-1.714   \u001b[0m | \u001b[95m0.001    \u001b[0m | \u001b[95m-0.0001  \u001b[0m | \u001b[95m0.01     \u001b[0m |\n",
      "| \u001b[0m7        \u001b[0m | \u001b[0m-1.847   \u001b[0m | \u001b[0m0.001    \u001b[0m | \u001b[0m-0.0001  \u001b[0m | \u001b[0m0.00846  \u001b[0m |\n",
      "| \u001b[0m8        \u001b[0m | \u001b[0m-2.076   \u001b[0m | \u001b[0m0.0005195\u001b[0m | \u001b[0m-8.478e-0\u001b[0m | \u001b[0m0.00686  \u001b[0m |\n",
      "| \u001b[0m9        \u001b[0m | \u001b[0m-1.797   \u001b[0m | \u001b[0m1e-06    \u001b[0m | \u001b[0m0.0      \u001b[0m | \u001b[0m0.01     \u001b[0m |\n",
      "| \u001b[0m10       \u001b[0m | \u001b[0m-1.762   \u001b[0m | \u001b[0m0.001    \u001b[0m | \u001b[0m0.0      \u001b[0m | \u001b[0m0.009404 \u001b[0m |\n",
      "| \u001b[0m11       \u001b[0m | \u001b[0m-1.776   \u001b[0m | \u001b[0m0.0005375\u001b[0m | \u001b[0m-0.0001  \u001b[0m | \u001b[0m0.009702 \u001b[0m |\n",
      "| \u001b[0m12       \u001b[0m | \u001b[0m-1.73    \u001b[0m | \u001b[0m0.0008014\u001b[0m | \u001b[0m0.0      \u001b[0m | \u001b[0m0.01     \u001b[0m |\n",
      "| \u001b[0m13       \u001b[0m | \u001b[0m-1.714   \u001b[0m | \u001b[0m0.001    \u001b[0m | \u001b[0m0.0      \u001b[0m | \u001b[0m0.01     \u001b[0m |\n",
      "| \u001b[0m14       \u001b[0m | \u001b[0m-1.721   \u001b[0m | \u001b[0m0.0009921\u001b[0m | \u001b[0m-2.313e-0\u001b[0m | \u001b[0m0.009922 \u001b[0m |\n",
      "=============================================================\n",
      "{'target': -1.7140049903249652, 'params': {'par11': 0.001, 'par31': -0.0001, 'ser11': 0.01}}\n"
     ]
    }
   ],
   "source": [
    "pbounds = {'par11': (1e-6, 10e-4), 'ser11': (1e-4, 1e-2), 'par31': (-0.1e-3, 0.0)}\n",
    "\n",
    "optimizer = BayesianOptimization(\n",
    "    f=spec.cost,\n",
    "    pbounds=pbounds,\n",
    "    verbose=2, # verbose = 1 prints only when a maximum is observed, verbose = 0 is silent\n",
    "    random_state=1,\n",
    ")\n",
    "\n",
    "optimizer.maximize(\n",
    "    init_points=4,\n",
    "    n_iter=10,\n",
    ")\n",
    "\n",
    "print(optimizer.max)"
   ]
  },
  {
   "cell_type": "code",
   "execution_count": 7,
   "id": "2861336a-bfed-4653-8219-2fafb7054900",
   "metadata": {},
   "outputs": [
    {
     "data": {
      "text/plain": [
       "-1.7140049903249652"
      ]
     },
     "execution_count": 7,
     "metadata": {},
     "output_type": "execute_result"
    }
   ],
   "source": [
    "spec.cost(plot=False, par11=optimizer.max['params']['par11'], ser11=optimizer.max['params']['ser11'], par31=optimizer.max['params']['par31'])"
   ]
  },
  {
   "cell_type": "code",
   "execution_count": 8,
   "id": "93ed8c61-6943-46a7-9b8c-3d1c867f985a",
   "metadata": {},
   "outputs": [
    {
     "data": {
      "text/plain": [
       "0.6931471805599453"
      ]
     },
     "execution_count": 8,
     "metadata": {},
     "output_type": "execute_result"
    }
   ],
   "source": [
    "import math\n",
    "math.log(1+1)"
   ]
  },
  {
   "cell_type": "code",
   "execution_count": null,
   "id": "e7e7121b-69aa-4009-a8ac-b6da389f447b",
   "metadata": {},
   "outputs": [],
   "source": []
  }
 ],
 "metadata": {
  "kernelspec": {
   "display_name": "Python 3 (ipykernel)",
   "language": "python",
   "name": "python3"
  },
  "language_info": {
   "codemirror_mode": {
    "name": "ipython",
    "version": 3
   },
   "file_extension": ".py",
   "mimetype": "text/x-python",
   "name": "python",
   "nbconvert_exporter": "python",
   "pygments_lexer": "ipython3",
   "version": "3.10.9"
  }
 },
 "nbformat": 4,
 "nbformat_minor": 5
}
