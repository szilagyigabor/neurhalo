{
 "cells": [
  {
   "cell_type": "code",
   "execution_count": 199,
   "id": "f0e737ab-ebcb-422d-93e5-bd941016a665",
   "metadata": {},
   "outputs": [],
   "source": [
    "import numpy as np\n",
    "import math\n",
    "import matplotlib.pyplot as plt\n",
    "\n",
    "pi = math.pi\n",
    "inf = math.inf"
   ]
  },
  {
   "cell_type": "code",
   "execution_count": 200,
   "id": "884f64c8-b460-4da7-b62a-8e3aa08c76eb",
   "metadata": {},
   "outputs": [],
   "source": [
    "# calculate impedance of an L or C element on the given frequency\n",
    "# if the input value is positive, then Z is calculated for a \"value\" valued inductance [H]\n",
    "# if the input value is negative, then Z is calculated for a \"-value\" valued capacitance [F]\n",
    "def Impedance(freq, value):\n",
    "    if(value >= 0 or value == inf): # value is inductance in [Henry]\n",
    "        return 0+freq*1j*2*pi*value\n",
    "    else: # -1*value is capacitance in [Farad]\n",
    "        return -1j*1/(freq*2*pi*(-value))\n",
    "\n",
    "# calculate parallel impedance of Z1 and Z2,\n",
    "# considering possible 0 and infinite values\n",
    "def Parallel(Z1, Z2):\n",
    "    if(Z1==0.0 or Z2==0.0):\n",
    "        return 0.0\n",
    "    elif(abs(Z1)==inf or abs(Z2) == inf):\n",
    "        if(abs(Z1)==inf and abs(Z2) == inf):\n",
    "            return inf\n",
    "        else:\n",
    "            if(abs(Z1)==inf):\n",
    "                return Z2\n",
    "            else:\n",
    "                return Z1\n",
    "    else:\n",
    "        return Z1*Z2/(Z1+Z2)\n",
    "\n",
    "def YfromZ(Z):\n",
    "    if(Z==0):\n",
    "        return inf\n",
    "    else:\n",
    "        return 1/Z\n",
    "\n",
    "#def SMatrixFromY(Y):\n",
    "    "
   ]
  },
  {
   "cell_type": "code",
   "execution_count": 201,
   "id": "9709007f-aa03-477a-aed6-51f1a10ce74f",
   "metadata": {},
   "outputs": [],
   "source": [
    "class Spec:\n",
    "    def __init__(self, starts, ends, limits, directions):\n",
    "        # starts of pass- or stopbands in Hz\n",
    "        self.starts = starts\n",
    "        # ends of start- or stopbands in Hz\n",
    "        self.ends = ends\n",
    "        # pass- or stopband threshold values\n",
    "        self.limits = limits\n",
    "        # pass- or stopbands? possible values: \"pass\" or \"stop\" strings\n",
    "        self.directions = directions\n",
    "\n",
    "    #def cost(self, types, values):\n",
    "    def cost(self, n=10, plot=False, par11=inf, par12=inf, ser11=0.0, ser12=0.0, par21=inf, par22=inf, ser21=0.0, ser22=0.0, par31=inf, par32=inf, ser31=0.0, ser32=0.0):\n",
    "        \"\"\"Parameters define a ladder structure,\n",
    "        where each series or parallel element consists of\n",
    "        two discrete, ideal L or C components in parallel\n",
    "        with each other. Default values define a perfect\n",
    "        all-pass filter. In the function parameters, \"parXY\" means\n",
    "        the value of the Y-th sub-component of the X-th parallel\n",
    "        element. Similarly, \"serXY\" means the value of the Y-th\n",
    "        sub-component of the X-th series element. The ladder starts\n",
    "        with a parallel element.\"\"\"\n",
    "        values = [par11, par12, ser11, ser12, par21, par22, ser21, ser22, par31, par32, ser31, ser32]\n",
    "        nval = len(values)\n",
    "        nladder = int(nval/4)\n",
    "        minf = (min(self.starts))\n",
    "        maxf = (max(self.ends))\n",
    "        # frequency axis sample points (log spacing)\n",
    "        faxis = []\n",
    "        # no. of frequency sample points\n",
    "        #n = 10\n",
    "        factor = (maxf/minf)**((1/n))\n",
    "        for i in range(n+1):\n",
    "            faxis.append(minf*factor**(i))\n",
    "        # reference impedance in Ohm\n",
    "        Z0 = 50\n",
    "        Y0 = 1/Z0\n",
    "        # array of overall S21 values at the\n",
    "        # frequency sample points\n",
    "        S21 = []\n",
    "        #TODO: process arguments in a new way\n",
    "        #process 1 parallel and 1 series element:\n",
    "        for f in faxis:\n",
    "            S = np.matrix([[0,1],[1,0]])\n",
    "            for l in range(nladder):\n",
    "                # admittance of the two parallel components together from the current step of the ladder\n",
    "                Y = YfromZ(Parallel(Impedance(f, values[l+0]), Impedance(f, values[l+1])))\n",
    "                if(abs(Y) == inf):\n",
    "                    mPar = np.matrix([[0, 1],[1, 0]])\n",
    "                else:\n",
    "                    mPar = np.matrix([[-Y, 2*Y0],[2*Y0, -Y]])/(Y+2*Y0)\n",
    "                Z = Parallel(Impedance(f, values[l+2]), Impedance(f, values[l+3]))\n",
    "                if(abs(Z) == inf):\n",
    "                    mSer = np.matrix([[1, 0],[0, 1]])\n",
    "                else:\n",
    "                    mSer = np.matrix([[Z, 2*Z0],[2*Z0, Z]])/(Z+2*Z0)\n",
    "                S = S*mPar*mSer\n",
    "            S21.append(abs(S.item(0,1)))\n",
    "        if(plot):\n",
    "            plt.loglog(faxis, S21)\n",
    "            plt.show()\n",
    "        cost = 0\n",
    "        # number of freq points in the regions where the S21 is specified\n",
    "        ncost = 0\n",
    "        for i in range(len(self.starts)):\n",
    "            for j in range(len(faxis)):\n",
    "                if faxis[j]>self.starts[i] and faxis[j]<self.ends[i]:\n",
    "                    ncost = ncost + 1\n",
    "                    if self.directions[i] == \"pass\":\n",
    "                        cost += max(0, 1-S21[j]/self.limits[i])\n",
    "                    else: # \"stop\"\n",
    "                        cost += max(0, S21[j]/self.limits[i]-1)\n",
    "        return cost/ncost"
   ]
  },
  {
   "cell_type": "code",
   "execution_count": 202,
   "id": "c6dd101e-68de-4e49-bb04-4113b7022c7c",
   "metadata": {},
   "outputs": [],
   "source": [
    "starts = [1, 100, 10000]\n",
    "ends = [10, 1000, 100000]\n",
    "limits = [0.1, 0.9, 0.1]\n",
    "directions = [\"stop\", \"pass\", \"stop\"]\n",
    "spec = Spec(starts, ends, limits, directions)"
   ]
  },
  {
   "cell_type": "code",
   "execution_count": 206,
   "id": "bf795b1e-13ca-4669-abf7-fe395421f091",
   "metadata": {},
   "outputs": [
    {
     "data": {
      "image/png": "[encoded data removed]",
      "text/plain": [
       "<Figure size 640x480 with 1 Axes>"
      ]
     },
     "metadata": {},
     "output_type": "display_data"
    },
    {
     "data": {
      "text/plain": [
       "2.269548248296577"
      ]
     },
     "execution_count": 206,
     "metadata": {},
     "output_type": "execute_result"
    }
   ],
   "source": [
    "spec.cost(plot=True, n=1000, par11=1e-4, ser11=1e-2)"
   ]
  },
  {
   "cell_type": "code",
   "execution_count": null,
   "id": "5ddd8fc7-182d-49b2-aa00-4750ce8ec9d7",
   "metadata": {},
   "outputs": [],
   "source": [
    "for i in range(10,100000,10):\n",
    "    "
   ]
  }
 ],
 "metadata": {
  "kernelspec": {
   "display_name": "Python 3 (ipykernel)",
   "language": "python",
   "name": "python3"
  },
  "language_info": {
   "codemirror_mode": {
    "name": "ipython",
    "version": 3
   },
   "file_extension": ".py",
   "mimetype": "text/x-python",
   "name": "python",
   "nbconvert_exporter": "python",
   "pygments_lexer": "ipython3",
   "version": "3.11.3"
  }
 },
 "nbformat": 4,
 "nbformat_minor": 5
}
